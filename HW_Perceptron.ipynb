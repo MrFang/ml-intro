{
 "cells": [
  {
   "cell_type": "markdown",
   "metadata": {
    "colab_type": "text",
    "id": "hgt4q-WT5tLV"
   },
   "source": [
    "# Перцептрон для восприятия цифр\n",
    "__Суммарное количество баллов: 10__\n",
    "\n",
    "В этом задании вам предстоит реализовать классический перцептрон, немного улучшить его, и протестировать результат на классической задаче определния цифр по изображениям."
   ]
  },
  {
   "cell_type": "code",
   "execution_count": null,
   "metadata": {
    "colab": {},
    "colab_type": "code",
    "id": "HtQreA-V5tLW"
   },
   "outputs": [],
   "source": [
    "import numpy as np\n",
    "import pandas as pd\n",
    "from sklearn.datasets import make_blobs, make_moons\n",
    "from sklearn.model_selection import train_test_split\n",
    "import matplotlib.pyplot as plt\n",
    "from sklearn import datasets\n",
    "import copy\n",
    "import random"
   ]
  },
  {
   "cell_type": "markdown",
   "metadata": {
    "colab_type": "text",
    "id": "lARqtR6o5tLY"
   },
   "source": [
    "Для начала реализуем простой перцептрон.\n",
    "\n",
    "#### Методы\n",
    "`predict(X)` - возвращает предсказанные метки для элементов выборки `X`\n",
    "\n",
    "`fit(X, y)` - инициализирует веса перцептрона, а затем обновляет их в течении `iterations` итераций. \n",
    "\n",
    "#### Параметры конструктора\n",
    "`iterations` - количество итераций обучения перцептрона\n",
    "\n",
    "#### Поля\n",
    "`w` - веса перцептрона размерности `X.shape[1] + 1`. `w[0]` должен соответстовать константе, `w[1:]` - коэффициентам компонент элемента `X`."
   ]
  },
  {
   "cell_type": "code",
   "execution_count": null,
   "metadata": {
    "colab": {},
    "colab_type": "code",
    "id": "9vOHrZ5W5tLZ",
    "pycharm": {
     "name": "#%%\n"
    }
   },
   "outputs": [],
   "source": [
    "class Perceptron:\n",
    "    def __init__(self, iterations=100):\n",
    "        self.w = None\n",
    "        self.__iterations = iterations\n",
    "\n",
    "    def h(self, X):\n",
    "        f = np.vectorize(lambda x: max([0.0, x]))\n",
    "        return f(np.sign(X @ self.w)) # return [0, 1] instead of [-1, 0, 1]\n",
    "\n",
    "    def fit(self, X, y):\n",
    "        data = np.hstack((np.ones((X.shape[0], 1)), X))\n",
    "        self.w = np.zeros(data.shape[1])\n",
    "\n",
    "        for _ in range(self.__iterations):\n",
    "            self.w += (y - self.h(data)).T @ data\n",
    "        \n",
    "    def predict(self, X):\n",
    "        return self.h(np.hstack((np.ones((X.shape[0], 1)), X)))"
   ]
  },
  {
   "cell_type": "markdown",
   "metadata": {
    "colab_type": "text",
    "id": "KSunHi2E5tLb"
   },
   "source": [
    "Посмотрим на то, как наш перцептрон справляется с различными наборами данных"
   ]
  },
  {
   "cell_type": "code",
   "execution_count": null,
   "metadata": {
    "collapsed": false,
    "pycharm": {
     "name": "#%%\n"
    }
   },
   "outputs": [],
   "source": [
    "def visualize(X, labels_true, labels_pred, w):\n",
    "    unique_labels = np.unique(labels_true)\n",
    "    unique_colors = dict([(l, c) for l, c in zip(unique_labels, [[0.8, 0., 0.], [0., 0., 0.8]])])\n",
    "    plt.figure(figsize=(9, 9))\n",
    "\n",
    "    if w[1] == 0:\n",
    "        plt.plot([X[:, 0].min(), X[:, 0].max()], w[0] / w[2])\n",
    "    elif w[2] == 0:\n",
    "        plt.plot(w[0] / w[1], [X[:, 1].min(), X[:, 1].max()])\n",
    "    else:\n",
    "        mins, maxs = X.min(axis=0), X.max(axis=0)\n",
    "        pts = [[mins[0], -mins[0] * w[1] / w[2] - w[0] / w[2]],\n",
    "               [maxs[0], -maxs[0] * w[1] / w[2] - w[0] / w[2]],\n",
    "               [-mins[1] * w[2] / w[1] - w[0] / w[1], mins[1]],\n",
    "               [-maxs[1] * w[2] / w[1] - w[0] / w[1], maxs[1]]]\n",
    "        pts = [(x, y) for x, y in pts if mins[0] <= x <= maxs[0] and mins[1] <= y <= maxs[1]]\n",
    "        x, y = list(zip(*pts))\n",
    "        plt.plot(x, y, c=(0.75, 0.75, 0.75), linestyle=\"--\")\n",
    "\n",
    "    colors_inner = [unique_colors[l] for l in labels_true]\n",
    "    colors_outer = [unique_colors[l] for l in labels_pred]\n",
    "    plt.scatter(X[:, 0], X[:, 1], c=colors_inner, edgecolors=colors_outer)\n",
    "    plt.show()"
   ]
  },
  {
   "cell_type": "code",
   "execution_count": null,
   "metadata": {
    "colab": {},
    "colab_type": "code",
    "id": "Xjeekf8a5tLb",
    "pycharm": {
     "name": "#%%\n"
    }
   },
   "outputs": [],
   "source": [
    "X, true_labels = make_blobs(400, 2, centers=[[0, 0], [2.5, 2.5]])\n",
    "c = Perceptron()\n",
    "c.fit(X, true_labels)\n",
    "visualize(X, true_labels, np.array(c.predict(X)), c.w)"
   ]
  },
  {
   "cell_type": "code",
   "execution_count": null,
   "metadata": {
    "colab": {},
    "colab_type": "code",
    "id": "ragnvu4i5tLd",
    "pycharm": {
     "name": "#%%\n"
    },
    "scrolled": false
   },
   "outputs": [],
   "source": [
    "X, true_labels = make_moons(400, noise=0.075)\n",
    "c = Perceptron()\n",
    "c.fit(X, true_labels)\n",
    "visualize(X, true_labels, np.array(c.predict(X)), c.w)"
   ]
  },
  {
   "cell_type": "markdown",
   "metadata": {
    "colab_type": "text",
    "id": "pbY9ZpRF5tLf"
   },
   "source": [
    "Проблема обычной реализации перцептрона в том, что закончить его обучение мы можем с неоптимальными весами, т.к. точность разбиения в зависимости от числа итераций не растет монотонно. Чтобы этого избежать, мы можем оставлять в конце веса той итерации, на которой мы лучше всего разбивали множество `X`.\n",
    "\n",
    "Реализуем перцептрон с карманом.\n",
    "\n",
    "#### Методы\n",
    "`predict(X)` - возвращает предсказанные метки для элементов выборки `X`\n",
    "\n",
    "`fit(X, y)` - инициализирует веса перцептрона, а затем обновляет их в течении `iterations` итераций. В конце обучения оставляет лучшие веса. \n",
    "\n",
    "#### Параметры конструктора\n",
    "`iterations` - количество итераций обучения перцептрона\n",
    "\n",
    "#### Поля\n",
    "`w` - веса перцептрона размерности `X.shape[1] + 1`. `w[0]` должен соответстовать константе, `w[1:]` - коэффициентам компонент элемента `X`."
   ]
  },
  {
   "cell_type": "code",
   "execution_count": null,
   "metadata": {
    "colab": {},
    "colab_type": "code",
    "id": "ny1gXuuE5tLf",
    "pycharm": {
     "name": "#%%\n"
    }
   },
   "outputs": [],
   "source": [
    "from sklearn.metrics import mean_squared_error\n",
    "\n",
    "class PerceptronBest:\n",
    "    def __init__(self, iterations=100):\n",
    "        self.w = None\n",
    "        self.__iterations = iterations\n",
    "\n",
    "    def h(self, X):\n",
    "        f = np.vectorize(lambda x: max([0.0, x]))\n",
    "        return f(np.sign(X @ self.w)) # return [0, 1] instead of [-1, 0, 1]\n",
    "\n",
    "    def fit(self, X, y):\n",
    "        data = np.hstack((np.ones((X.shape[0], 1)), X))\n",
    "        self.w = np.zeros(data.shape[1])\n",
    "        best_weights = np.zeros(data.shape[1])\n",
    "        best_error = mean_squared_error(y, self.h(data));\n",
    "\n",
    "        for _ in range(self.__iterations):\n",
    "            self.w += (y - self.h(data)).T @ data\n",
    "            error = mean_squared_error(y, self.h(data))\n",
    "\n",
    "            if error < best_error:\n",
    "                best_error = error\n",
    "                best_weights = np.copy(self.w)\n",
    "        \n",
    "        self.w = best_weights\n",
    "        \n",
    "    def predict(self, X):\n",
    "        return self.h(np.hstack((np.ones((X.shape[0], 1)), X)))"
   ]
  },
  {
   "cell_type": "markdown",
   "metadata": {
    "colab_type": "text",
    "id": "7L7zIVOo5tLj"
   },
   "source": [
    "Посмотрим на то, как наш перцептрон справляется с различными наборами данных"
   ]
  },
  {
   "cell_type": "code",
   "execution_count": null,
   "metadata": {
    "colab": {},
    "colab_type": "code",
    "id": "BdDhNXzN5tLj",
    "pycharm": {
     "name": "#%%\n"
    }
   },
   "outputs": [],
   "source": [
    "X, true_labels = make_blobs(400, 2, centers=[[0, 0], [2.5, 2.5]])\n",
    "c = PerceptronBest()\n",
    "c.fit(X, true_labels)\n",
    "visualize(X, true_labels, np.array(c.predict(X)), c.w)"
   ]
  },
  {
   "cell_type": "code",
   "execution_count": null,
   "metadata": {
    "colab": {},
    "colab_type": "code",
    "id": "16QOP3lr5tLl",
    "pycharm": {
     "name": "#%%\n"
    }
   },
   "outputs": [],
   "source": [
    "X, true_labels = make_moons(400, noise=0.075)\n",
    "c = PerceptronBest()\n",
    "c.fit(X, true_labels)\n",
    "visualize(X, true_labels, np.array(c.predict(X)), c.w)"
   ]
  },
  {
   "cell_type": "markdown",
   "metadata": {
    "colab_type": "text",
    "id": "xrwigZDy5tLn"
   },
   "source": [
    "Реализуйте метод `transform_images(images)`, который преобразует изображения в двумерные векторы. Значение компонент векторов придумайте сами и напишите в виде комментария к методу."
   ]
  },
  {
   "cell_type": "code",
   "execution_count": null,
   "metadata": {
    "colab": {},
    "colab_type": "code",
    "id": "aaSoxlDE5tLo",
    "pycharm": {
     "name": "#%%\n"
    }
   },
   "outputs": [],
   "source": [
    "def transform_images(images):\n",
    "    return np.array([ image.flatten() for image in images ])\n",
    "\n",
    "def get_digits(train_image_ids, test_image_ids):\n",
    "    data = datasets.load_digits()\n",
    "    images_train, labels_train = data.images[train_image_ids['ImageId'].values], data.target[train_image_ids['ImageId'].values]\n",
    "    images_test, labels_test = data.images[test_image_ids['ImageId'].values], data.target[test_image_ids['ImageId'].values]\n",
    "    return images_train, labels_train, images_test, labels_test\n",
    "\n",
    "def get_digits_by_mask(images, labels, y0, y1):\n",
    "    mask = np.logical_or(labels == y0, labels == y1)\n",
    "    labels = labels[mask]\n",
    "    images = images[mask]\n",
    "    images /= np.max(images)\n",
    "    return images, labels\n",
    "\n",
    "def get_x_y(train_image_ids, test_image_ids, y0=1, y1=5):\n",
    "    X_train, y_train, X_test, y_test = get_digits(train_image_ids, test_image_ids)\n",
    "\n",
    "    X_train, y_train = get_digits_by_mask(X_train, y_train, y0, y1)\n",
    "    X_train = transform_images(X_train)\n",
    "\n",
    "    X_test, y_test = get_digits_by_mask(X_test, y_test, y0, y1)\n",
    "    X_test = transform_images(X_test)\n",
    "\n",
    "    return X_train, y_train, X_test, y_test"
   ]
  },
  {
   "cell_type": "markdown",
   "metadata": {
    "colab_type": "text",
    "id": "4c0Vkwks5tLq"
   },
   "source": [
    "Теперь посмотрим на точность обычного перцептрона и перцептрона выбором лучшей итерации. Для тестирования будем использовать цифры 1 и 5. Необходимо использовать реализованное выше преобразование, т.е. только векторы из 2х признаков. \n",
    "\n",
    "Точность хотя бы одного из классификаторов на тестовой выборке должна быть больше 80%"
   ]
  },
  {
   "cell_type": "code",
   "execution_count": null,
   "metadata": {
    "colab": {},
    "colab_type": "code",
    "id": "_eGeIq5I5tLq",
    "pycharm": {
     "name": "#%%\n"
    }
   },
   "outputs": [],
   "source": [
    "train_ids, test_ids = pd.read_csv(\"./hw_perceptron_data/x_digits_train.csv\"), pd.read_csv(\"./hw_perceptron_data/x_digits_test.csv\")\n",
    "X_train, y_train, X_test, y_test = get_x_y(train_ids, test_ids)"
   ]
  },
  {
   "cell_type": "code",
   "execution_count": null,
   "metadata": {
    "colab": {},
    "colab_type": "code",
    "id": "InfJDc6p5tLt",
    "pycharm": {
     "name": "#%%\n"
    }
   },
   "outputs": [],
   "source": [
    "c = Perceptron(iterations=100000)\n",
    "c.fit(X_train, y_train)\n",
    "print(\"Accuracy:\", np.mean(c.predict(X_test) == y_test))"
   ]
  },
  {
   "cell_type": "code",
   "execution_count": null,
   "metadata": {
    "colab": {},
    "colab_type": "code",
    "id": "OHlaGhdq5tLu",
    "pycharm": {
     "name": "#%%\n"
    }
   },
   "outputs": [],
   "source": [
    "c = PerceptronBest(iterations=100000)\n",
    "c.fit(X_train, y_train)\n",
    "print(\"Accuracy:\", np.mean(c.predict(X_test) == y_test))"
   ]
  },
  {
   "cell_type": "code",
   "execution_count": null,
   "metadata": {
    "collapsed": false,
    "pycharm": {
     "name": "#%%\n"
    }
   },
   "outputs": [],
   "source": [
    "submission = pd.DataFrame(columns = [\"Id\", \"Expected\"])\n",
    "submission[\"Id\"] = #YOUR CODE\n",
    "submission[\"Expected\"] = #YOUR CODE\n",
    "submission.to_csv('submission.csv', index=False)"
   ]
  },
  {
   "cell_type": "markdown",
   "metadata": {
    "colab_type": "text",
    "id": "IYbrE9JZ5tLw"
   },
   "source": [
    "А теперь посчитаем среднюю точность по всем возможным парам цифр"
   ]
  },
  {
   "cell_type": "code",
   "execution_count": null,
   "metadata": {
    "colab": {},
    "colab_type": "code",
    "id": "fgeo9IB75tLx",
    "pycharm": {
     "name": "#%%\n"
    },
    "scrolled": true
   },
   "outputs": [],
   "source": [
    "accs = []\n",
    "for y0, y1 in [(y0, y1) for y0 in range(9) for y1 in range(y0+1, 10)]:\n",
    "    X_train, y_train, X_test, y_test = get_x_y(train_ids, test_ids, y0, y1)\n",
    "    c = Perceptron(iterations=20000)\n",
    "    c.fit(X_train, y_train)\n",
    "    accs.append(np.mean(c.predict(X_test) == y_test))\n",
    "print(\"Mean accuracy:\", np.mean(accs))"
   ]
  },
  {
   "cell_type": "code",
   "execution_count": null,
   "metadata": {
    "colab": {},
    "colab_type": "code",
    "id": "NP-EHvDj5tLz",
    "pycharm": {
     "name": "#%% \n"
    },
    "scrolled": true
   },
   "outputs": [],
   "source": [
    "accs = []\n",
    "for y0, y1 in [(y0, y1) for y0 in range(9) for y1 in range(y0+1, 10)]:\n",
    "    X_train, y_train, X_test, y_test = get_x_y(train_ids, test_ids, y0, y1)\n",
    "    c = PerceptronBest(iterations=20000)\n",
    "    c.fit(X_train, y_train)\n",
    "    accs.append(np.mean(c.predict(X_test) == y_test))\n",
    "print(\"Mean accuracy:\", np.mean(accs))"
   ]
  }
 ],
 "metadata": {
  "colab": {
   "collapsed_sections": [],
   "name": "hw05_task.ipynb",
   "provenance": []
  },
  "interpreter": {
   "hash": "c735e785638487209ed2a3db546f5c7bcaa2bb4ea491a1f0a12d04bd9cdbfd59"
  },
  "kernelspec": {
   "display_name": "Python 3.8.10 64-bit ('env': venv)",
   "name": "python3"
  },
  "language_info": {
   "codemirror_mode": {
    "name": "ipython",
    "version": 3
   },
   "file_extension": ".py",
   "mimetype": "text/x-python",
   "name": "python",
   "nbconvert_exporter": "python",
   "pygments_lexer": "ipython3",
   "version": "3.8.10"
  }
 },
 "nbformat": 4,
 "nbformat_minor": 1
}
