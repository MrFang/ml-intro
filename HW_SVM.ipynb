{
 "cells": [
  {
   "cell_type": "markdown",
   "metadata": {},
   "source": [
    "# SVM и его ядра\n",
    "__Суммарное количество баллов: 10__"
   ]
  },
  {
   "cell_type": "markdown",
   "metadata": {},
   "source": [
    "В этом задании вам не нужно будет реализовать SVM, а научиться его применять."
   ]
  },
  {
   "cell_type": "markdown",
   "metadata": {},
   "source": [
    "Примените метод SVM (например, из библиотеки sklearn) для датасета blobs2.\n",
    "\n",
    "Визуализируйте результат (разбиение плоскости и опорные вектора) при разных вариантах ядер (линейное; полиномиальное степеней 2,3,5; RBF)."
   ]
  },
  {
   "cell_type": "code",
   "execution_count": null,
   "metadata": {},
   "outputs": [],
   "source": [
    "from sklearn.svm import SVC \n",
    "from sklearn.datasets import make_blobs\n",
    "import seaborn as sns\n",
    "import pandas as pd\n",
    "from sklearn.model_selection import train_test_split\n",
    "from matplotlib import pyplot as plt\n",
    "\n",
    "X_blobs2, y_blobs2 = make_blobs(n_samples=1000, random_state=4, center_box=(-2, 2),cluster_std=0.4, centers=2)\n",
    "\n",
    "X_train, X_test, y_train, y_test = train_test_split(X_blobs2, y_blobs2)\n"
   ]
  },
  {
   "cell_type": "code",
   "execution_count": null,
   "metadata": {},
   "outputs": [],
   "source": [
    "linear_svc = SVC(kernel='linear')\n",
    "poly_2_svc = SVC(kernel='poly', degree=2)\n",
    "poly_3_svc = SVC(kernel='poly', degree=3)\n",
    "poly_5_svc = SVC(kernel='poly', degree=5)\n",
    "rbf_svc = SVC(kernel='rbf')\n",
    "\n",
    "svc_arr = [linear_svc, poly_2_svc, poly_3_svc, poly_5_svc, rbf_svc]\n",
    "\n",
    "[svc.fit(X_train, y_train) for svc in svc_arr]\n",
    "\n",
    "for svc in svc_arr:\n",
    "  plt.figure(figsize=(12, 10))\n",
    "  sns.scatterplot(\n",
    "    data=pd.DataFrame([[*x, y] for x, y in zip(X_test, svc.predict(X_test))], columns=['x', 'y', 'hue']),\n",
    "    x='x', y='y', hue='hue'\n",
    "  )\n",
    "\n",
    "# Get support vectors themselves\n",
    "for svc in svc_arr:\n",
    "  support_vectors = svc.support_vectors_\n",
    "  \n",
    "  # Visualize support vectors\n",
    "  plt.figure(figsize=(12, 10))\n",
    "  plt.scatter(X_train[:,0], X_train[:,1])\n",
    "  plt.scatter(support_vectors[:,0], support_vectors[:,1])\n",
    "  plt.show()"
   ]
  },
  {
   "cell_type": "markdown",
   "metadata": {},
   "source": [
    "Протестируйте SVM на датасете spam. Для этой задачи используйте данные x_spam_train и y_spam_train:\n",
    "\n",
    "1. Выполните загрузку и предобработку файлов x_spam_train и y_spam_train.\n",
    "2. Разбейте x_spam_train и y_spam_train на x_train, y_train, x_test и y_test для оценки точности работы алгоритма.\n",
    "3. Посчитайте метрики precision, recall, accuracy для модели SVM. Если необходимо, попробуйте разные наборы параметров для получения лучшего результата.\n",
    "4. Сравните время работы SVM и Random Forest при близкой точности.\n",
    "\n",
    "Ответьте на следующие вопросы:\n",
    "1. Какой нужен препроцессинг данных для моделей?\n",
    "2. Какая модель делает предсказания лучше? Предположите, почему."
   ]
  },
  {
   "cell_type": "markdown",
   "metadata": {},
   "source": [
    "1. Нужно отрезать колонку `id` т.к. она не является значимой для предсказания. Кроме того, данные для SVC необходимо отскалировать, чтобы адекватно оценивать расстояния\n",
    "2. С дефолтными параметрами обе модели дают примерно одинаковый результат, но лес учится дольше. Предположительно потому что высчитывать оптимальные разбиения дерева и делить их несколько дольше, чем матричная математика"
   ]
  },
  {
   "cell_type": "code",
   "execution_count": null,
   "metadata": {},
   "outputs": [],
   "source": [
    "from sklearn.metrics import accuracy_score, recall_score, precision_score\n",
    "from sklearn.preprocessing import minmax_scale\n",
    "from sklearn.ensemble import RandomForestClassifier\n",
    "import time\n",
    "\n",
    "X, y = pd.read_csv('./hw_trees_data/x_spam_train.csv', index_col='Id'), pd.read_csv('./hw_trees_data/y_spam_train.csv', index_col='Id')\n",
    "X_scaled = minmax_scale(X)\n",
    "\n",
    "X_train, X_test, y_train, y_test = train_test_split(X_scaled, y)\n",
    "\n",
    "svc = SVC()\n",
    "rfc = RandomForestClassifier()\n",
    "start_time = time.time_ns()\n",
    "svc.fit(X_train, y_train['Expected'])\n",
    "svc_learning_time = time.time_ns() - start_time\n",
    "start_time = time.time_ns()\n",
    "rfc.fit(X_train, y_train['Expected'])\n",
    "rfc_learning_time = time.time_ns() - start_time\n",
    "svc_pred = svc.predict(X_test)\n",
    "rfc_pred = svc.predict(X_test)\n",
    "\n",
    "print(\n",
    "  'SVC:',\n",
    "  accuracy_score(y_test['Expected'], svc_pred),\n",
    "  recall_score(y_test['Expected'], svc_pred),\n",
    "  precision_score(y_test['Expected'], svc_pred),\n",
    "  svc_learning_time / 1000\n",
    ")\n",
    "\n",
    "print(\n",
    "  'RFC:',\n",
    "  accuracy_score(y_test['Expected'], rfc_pred),\n",
    "  recall_score(y_test['Expected'], rfc_pred),\n",
    "  precision_score(y_test['Expected'], rfc_pred),\n",
    "  rfc_learning_time / 1000\n",
    ")"
   ]
  },
  {
   "cell_type": "markdown",
   "metadata": {},
   "source": [
    "Обучите модель на всех данных из x_spam_train и y_spam_train.\n",
    "Сделайте submit своего решения и получите значение f1_score не менее 0.6"
   ]
  },
  {
   "cell_type": "code",
   "execution_count": null,
   "metadata": {},
   "outputs": [],
   "source": [
    "svc = SVC()\n",
    "svc.fit(X_scaled, y)\n",
    "test = pd.read_csv('hw_trees_data/x_spam_test.csv')\n",
    "test_scaled = minmax_scale(test.drop('Id', axis=1))\n",
    "submission = pd.DataFrame(columns = [\"Id\", \"Expected\"])\n",
    "submission[\"Id\"] = test[\"Id\"]\n",
    "submission[\"Expected\"] = svc.predict(test_scaled)\n",
    "submission.to_csv('submission.csv', index=False)"
   ]
  }
 ],
 "metadata": {
  "interpreter": {
   "hash": "c735e785638487209ed2a3db546f5c7bcaa2bb4ea491a1f0a12d04bd9cdbfd59"
  },
  "kernelspec": {
   "display_name": "Python 3.8.10 64-bit ('env': venv)",
   "name": "python3"
  },
  "language_info": {
   "codemirror_mode": {
    "name": "ipython",
    "version": 3
   },
   "file_extension": ".py",
   "mimetype": "text/x-python",
   "name": "python",
   "nbconvert_exporter": "python",
   "pygments_lexer": "ipython3",
   "version": "3.8.10"
  }
 },
 "nbformat": 4,
 "nbformat_minor": 2
}
