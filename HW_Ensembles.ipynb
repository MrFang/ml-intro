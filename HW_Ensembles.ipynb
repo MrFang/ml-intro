{
 "cells": [
  {
   "cell_type": "markdown",
   "source": [
    "# Случайные леса\n",
    "__Суммарное количество баллов: 10__\n",
    "\n",
    "В этом задании вам предстоит реализовать ансамбль деревьев решений, известный как случайный лес, применить его к публичным данным и сравнить его эффективность с ансамблями из самых популярных библиотек."
   ],
   "metadata": {}
  },
  {
   "cell_type": "code",
   "execution_count": null,
   "source": [
    "from sklearn.model_selection import train_test_split\n",
    "import numpy as np\n",
    "import pandas as pd\n",
    "import random\n",
    "import matplotlib.pyplot as plt\n",
    "import matplotlib\n",
    "import copy\n",
    "from typing import Tuple"
   ],
   "outputs": [],
   "metadata": {}
  },
  {
   "cell_type": "markdown",
   "source": [
    "Реализуем сам Random Forest. Идея очень простая: строим `n` деревьев, а затем берем модальное предсказание. Используйте реализацию дерева из HW3.\n",
    "\n",
    "#### Параметры конструктора\n",
    "`n_estimators` - количество используемых для предсказания деревьев.\n",
    "\n",
    "Остальное - параметры деревьев.\n",
    "\n",
    "#### Методы\n",
    "`fit(X, y)` - строит `n_estimators` деревьев по выборке `X`.\n",
    "\n",
    "`predict(X)` - для каждого элемента выборки `X` возвращает самый частый класс, который предсказывают для него деревья."
   ],
   "metadata": {}
  },
  {
   "cell_type": "code",
   "execution_count": null,
   "source": [
    "from functools import reduce\n",
    "from math import log\n",
    "\n",
    "def get_p(x):\n",
    "    def tmp(clazz):\n",
    "        return len([ t for t in x if t == clazz]) / len(x)\n",
    "    \n",
    "    return tmp\n",
    "\n",
    "def gini(x):\n",
    "    classes = np.unique(x)\n",
    "\n",
    "    p = get_p(x)\n",
    "\n",
    "    return reduce(\n",
    "        lambda acc, clazz: acc + p(clazz) * (1 - p(clazz)),\n",
    "        classes,\n",
    "        0\n",
    "    )\n",
    "    \n",
    "def entropy(x):\n",
    "    classes = np.unique(x)\n",
    "\n",
    "    p = get_p(x)\n",
    "\n",
    "    return -reduce(\n",
    "        lambda acc, clazz: acc + p(clazz) * log(p(clazz)),\n",
    "        classes,\n",
    "        0\n",
    "    )\n",
    "\n",
    "def gain(left_y, right_y, criterion):\n",
    "    return (len(left_y) * criterion(left_y) + len(right_y) * criterion(right_y)) / (len(left_y) + len(right_y))\n",
    "\n",
    "class DecisionTreeLeaf:\n",
    "    def __init__(self, labels):\n",
    "        self.probabilities = {}\n",
    "        unique_labels = np.unique(labels)\n",
    "        \n",
    "        for label in unique_labels:\n",
    "            self.probabilities[label] = len([ y for y in labels if y == label ]) / len(labels)\n",
    "        \n",
    "        self.y = reduce(\n",
    "            lambda max_label, current_label: current_label if self.probabilities[max_label] < self.probabilities[current_label] else max_label,\n",
    "            self.probabilities\n",
    "        )\n",
    "\n",
    "\n",
    "class DecisionTreeNode:\n",
    "    def __init__(self, split_dim, split_value, left, right):\n",
    "        self.split_dim = split_dim\n",
    "        self.split_value = split_value\n",
    "        self.left = left\n",
    "        self.right = right\n",
    "\n",
    "\n",
    "class DecisionTreeClassifier:\n",
    "    def __init__(self, criterion=\"gini\", max_depth=None, min_samples_leaf=1):\n",
    "        self.root = None\n",
    "        self.__gain = lambda left, right: gain(left, right, gini if criterion == 'gini' else entropy)\n",
    "        self.__max_depth = max_depth\n",
    "        self.__min_samples_leaf = min_samples_leaf\n",
    "    \n",
    "    def fit(self, X, y):\n",
    "        self.__data = {} # Словарь: Ключ -- id, значение -- пара (пример, метка)\n",
    "        \n",
    "        for x in X: # Заполняем self.__data\n",
    "            label = -1\n",
    "            \n",
    "            for i in y:\n",
    "                if i[0] == x[0]:\n",
    "                    label = i[1]\n",
    "                    break\n",
    "            \n",
    "            if label != -1:\n",
    "                self.__data[x[0]] = (x[1:], label)\n",
    "        \n",
    "        # Для каждой фичи определяем \"границы\" минимум и максимум, которого она достигает на датасете\n",
    "        tmp = np.empty((len(self.__data), len(next(iter(self.__data.values()))[0]))) # Размеры tmp -- (<размер датасета>, <количество фич первого элемента словаря>)\n",
    "\n",
    "        counter = 0;\n",
    "        \n",
    "        for id in self.__data:\n",
    "            tmp[counter] = self.__data[id][0]\n",
    "            counter += 1\n",
    "\n",
    "        self.__borders = np.transpose(np.array([np.amin(tmp, axis=0), np.amax(tmp, axis = 0)]))\n",
    "\n",
    "        self.root = self.__get_node_or_leaf(self.__data, 1)\n",
    "                    \n",
    "    def __get_node_or_leaf(self, data_subset, depth):\n",
    "        labels = [ data_subset[id][1] for id in data_subset ]\n",
    "        \n",
    "        if len(data_subset.items()) <= self.__min_samples_leaf:\n",
    "            return DecisionTreeLeaf(labels)\n",
    "        \n",
    "        if self.__max_depth is not None and self.__max_depth <= depth: # Дререво достигло максимальной глубины\n",
    "            return DecisionTreeLeaf(labels)\n",
    "        \n",
    "        if len(np.unique(labels)) == 1: # Все объекты принадлежат к одному классу\n",
    "            return DecisionTreeLeaf(labels)\n",
    "        \n",
    "\n",
    "        gain = None # Вместо +inf\n",
    "        split_feature_idx = 0\n",
    "        split_treshold = 0\n",
    "        left_data_subset, right_data_subset = {}, {}\n",
    "        \n",
    "        for feature_id in range( len( next( iter( data_subset.values() ) )[0] ) ): # Итерируемся 0..<длина фич первого элемента словаря>\n",
    "\n",
    "            feature_min, feature_range = \\\n",
    "                self.__borders[feature_id][0], \\\n",
    "                self.__borders[feature_id][1] - self.__borders[feature_id][0]\n",
    "\n",
    "            for i in range(0, 101): # Делим облазть значений каждой фичи на 100 кусков и выполняем разбиения по границам этих кусков\n",
    "                feature_value = feature_min + (feature_range / 100 * i)\n",
    "                samples_with_labels_left, samples_with_labels_right = {}, {}\n",
    "\n",
    "                for id in data_subset:\n",
    "                    if data_subset[id][0][feature_id] < feature_value:\n",
    "                        samples_with_labels_left[id] = data_subset[id]\n",
    "                    else:\n",
    "                        samples_with_labels_right[id] = data_subset[id]\n",
    "\n",
    "                local_gain = self.__gain(\n",
    "                    [ data_subset[id][1] for id in samples_with_labels_left ],\n",
    "                    [ data_subset[id][1] for id in samples_with_labels_right ]\n",
    "                )\n",
    "                \n",
    "                if gain is None or local_gain < gain:\n",
    "                    gain = local_gain\n",
    "                    split_feature_idx = feature_id\n",
    "                    split_treshold = feature_value\n",
    "                    left_data_subset = samples_with_labels_left.copy()\n",
    "                    right_data_subset = samples_with_labels_right.copy()\n",
    "        \n",
    "        return DecisionTreeNode(\n",
    "            split_feature_idx,\n",
    "            split_treshold,\n",
    "            self.__get_node_or_leaf(left_data_subset, depth + 1),\n",
    "            self.__get_node_or_leaf(right_data_subset, depth + 1)\n",
    "        )\n",
    "\n",
    "    \n",
    "    def predict_proba(self, X):\n",
    "        result = np.empty(len(X), dtype=object)\n",
    "\n",
    "        for sample_idx, sample in enumerate(X):\n",
    "            current_node = self.root\n",
    "\n",
    "            while type(current_node) != type(DecisionTreeLeaf([0])): # Аргумент, передоваемый в Leaf -- костыль\n",
    "                split_feature_idx = current_node.split_dim + 1 # +1 потому что при обучении мы проигнорировали колонку ID, поэтому все индексы в узлах на единицу меньше\n",
    "\n",
    "                if sample[split_feature_idx] < current_node.split_value:\n",
    "                    current_node = current_node.left\n",
    "                else:\n",
    "                    current_node = current_node.right\n",
    "            \n",
    "            result[sample_idx] = current_node.probabilities\n",
    "        \n",
    "        return result\n",
    "    \n",
    "    def predict(self, X):\n",
    "        proba = self.predict_proba(X)\n",
    "        return [ max(p.keys(), key=lambda k: p[k]) for p in proba ]"
   ],
   "outputs": [],
   "metadata": {}
  },
  {
   "cell_type": "code",
   "execution_count": null,
   "source": [
    "class RandomForestClassifier:\n",
    "    def __init__(self, criterion=\"gini\", max_depth=None, min_samples_leaf=1, max_features=\"auto\", n_estimators=10):\n",
    "        self.__max_features = max_features\n",
    "        self.__n_estimators = n_estimators\n",
    "        self.__trees = np.array([ DecisionTreeClassifier(\n",
    "            criterion=criterion,\n",
    "            max_depth=max_depth,\n",
    "            min_samples_leaf=min_samples_leaf\n",
    "        ) for _ in range(n_estimators) ])\n",
    "        \n",
    "    \n",
    "    def fit(self, X, y):\n",
    "        bagged_data = self.__get_bagged_datasets(X, y, self.__n_estimators, len(X)); # TODO how to determine number of samples in bagged dataset?\n",
    "        [ self.__trees[tree_idx].fit(bagged_data[tree_idx][0], bagged_data[tree_idx][1]) for tree_idx in range(len(self.__trees)) ]\n",
    "    \n",
    "    def predict(self, X):\n",
    "        raise NotImplementedError()\n",
    "\n",
    "    \n",
    "    def __get_bagged_datasets(self, X, y, number_of_sets, number_of_samples):\n",
    "        X_sets = np.empty((number_of_sets, number_of_samples, X.shape[1]))\n",
    "        y_sets = np.empty((number_of_sets, number_of_samples, y.shape[1]))\n",
    "        \n",
    "        for set_number in range(number_of_sets):\n",
    "            indexes = np.random.choice(np.arange(X.shape[0]), number_of_samples)\n",
    "            X_sets[set_number] = X[indexes]\n",
    "            y_sets[set_number] = y[indexes]\n",
    "        \n",
    "        return [ (X_sets[idx], y_sets[idx]) for idx in range(number_of_sets) ]"
   ],
   "outputs": [],
   "metadata": {}
  },
  {
   "cell_type": "markdown",
   "source": [
    "### Задание 3 (2 балла)\n",
    "Оптимизируйте по `AUC` на кроссвалидации (размер валидационной выборки - 20%) параметры своей реализации `Random Forest`: \n",
    "\n",
    "максимальную глубину деревьев из [2, 3, 5, 7, 10], количество деревьев из [5, 10, 20, 30, 50, 100]. \n",
    "\n",
    "Постройте `ROC` кривую (и выведите `AUC` и `accuracy`) для лучшего варианта.\n",
    "\n",
    "Подсказка: можно построить сразу 100 деревьев глубины 10, а потом убирать деревья и\n",
    "глубину."
   ],
   "metadata": {}
  },
  {
   "cell_type": "code",
   "execution_count": null,
   "source": [
    "def train_test_split(X: np.array, y: np.array, ratio: float = 0.7) -> Tuple[np.array, np.array, np.array, np.array]:\n",
    "    # Возвращает X_train, y_train, X_test, y_test\n",
    "    # X_train и X_test - массив векторов - две части массива X, разделенного в состветсви с коэффициентом ratio\n",
    "    # y_train и y_test - соответствующие X_train и X_test метки классов\n",
    "    treshold: int = int(X.shape[0] * ratio)\n",
    "    return X[:treshold], y[:treshold], X[treshold:], y[treshold:]\n",
    "\n",
    "X, y = pd.read_csv('hw_trees_data/x_spam_train.csv').to_numpy(), pd.read_csv('hw_trees_data/y_spam_train.csv').to_numpy()\n",
    "X_train, y_train, X_test, y_test = train_test_split(X, y, 0.1)\n",
    "\n",
    "forest = RandomForestClassifier()\n",
    "forest.fit(X_train, y_train)"
   ],
   "outputs": [],
   "metadata": {}
  },
  {
   "cell_type": "markdown",
   "source": [
    "Часто хочется понимать, насколько большую роль играет тот или иной признак для предсказания класса объекта. Есть различные способы посчитать его важность. Один из простых способов сделать это для Random Forest выглядит так:\n",
    "1. Посчитать out-of-bag ошибку предсказания `err_oob` (https://en.wikipedia.org/wiki/Out-of-bag_error)\n",
    "2. Перемешать значения признака `j` у объектов выборки (у каждого из объектов изменится значение признака `j` на какой-то другой)\n",
    "3. Посчитать out-of-bag ошибку (`err_oob_j`) еще раз.\n",
    "4. Оценкой важности признака `j` для одного дерева будет разность `err_oob_j - err_oob`, важность для всего леса считается как среднее значение важности по деревьям.\n",
    "\n",
    "Реализуйте функцию `feature_importance`, которая принимает на вход Random Forest и возвращает массив, в котором содержится важность для каждого признака."
   ],
   "metadata": {}
  },
  {
   "cell_type": "code",
   "execution_count": null,
   "source": [
    "def feature_importance(rfc):\n",
    "    raise NotImplementedError()\n",
    "\n",
    "def most_important_features(importance, names, k=20):\n",
    "    # Выводит названия k самых важных признаков\n",
    "    idicies = np.argsort(importance)[::-1][:k]\n",
    "    return np.array(names)[idicies]"
   ],
   "outputs": [],
   "metadata": {}
  },
  {
   "cell_type": "markdown",
   "source": [
    "Протестируйте решение на простом синтетическом наборе данных. В результате должна получиться точность `1.0`, наибольшее значение важности должно быть у признака с индексом `4`, признаки с индексами `2` и `3`  должны быть одинаково важны, а остальные признаки - не важны совсем."
   ],
   "metadata": {}
  },
  {
   "cell_type": "code",
   "execution_count": null,
   "source": [
    "def synthetic_dataset(size):\n",
    "    X = [(np.random.randint(0, 2), np.random.randint(0, 2), i % 6 == 3, \n",
    "          i % 6 == 0, i % 3 == 2, np.random.randint(0, 2)) for i in range(size)]\n",
    "    y = [i % 3 for i in range(size)]\n",
    "    return np.array(X), np.array(y)\n",
    "\n",
    "X, y = synthetic_dataset(1000)\n",
    "rfc = RandomForestClassifier(n_estimators=100)\n",
    "rfc.fit(X, y)\n",
    "print(\"Accuracy:\", np.mean(rfc.predict(X) == y))\n",
    "print(\"Importance:\", feature_importance(rfc))"
   ],
   "outputs": [],
   "metadata": {}
  },
  {
   "cell_type": "markdown",
   "source": [
    "Проверьте, какие признаки важны для датасета spam? (Используйте файлы x_spam_train и y_spam_train)"
   ],
   "metadata": {}
  },
  {
   "cell_type": "markdown",
   "source": [
    "_Ваш ответ_"
   ],
   "metadata": {}
  },
  {
   "cell_type": "markdown",
   "source": [
    "1. Обучите модель на всех данных из x_spam_train и y_spam_train.\n",
    "2. Сделайте submit своего решения и получите значение f1_score не менее 0.6"
   ],
   "metadata": {
    "collapsed": false
   }
  },
  {
   "cell_type": "code",
   "execution_count": null,
   "source": [
    "submission = pd.DataFrame(columns = [\"Id\", \"Expected\"])\n",
    "submission[\"Id\"] = test[\"Id\"]\n",
    "submission[\"Expected\"] = #YOUR CODE\n",
    "submission.to_csv('submission.csv', index=False)"
   ],
   "outputs": [],
   "metadata": {
    "collapsed": false,
    "pycharm": {
     "name": "#%%\n"
    }
   }
  },
  {
   "cell_type": "markdown",
   "source": [
    "В качестве альтернативы попробуем библиотечные реализации ансамблей моделей. \n",
    "\n",
    "1. [CatBoost](https://catboost.ai/docs/)\n",
    "2. [XGBoost](https://xgboost.readthedocs.io/en/latest/)\n",
    "3. [LightGBM](https://lightgbm.readthedocs.io/en/latest/)\n"
   ],
   "metadata": {}
  },
  {
   "cell_type": "markdown",
   "source": [
    "Установите необходимые библиотеки. \n",
    "Возможно, потребуется установка дополнительных пакетов."
   ],
   "metadata": {}
  },
  {
   "cell_type": "code",
   "execution_count": null,
   "source": [
    "!pip install lightgbm\n",
    "!pip install catboost\n",
    "!pip install xgboost"
   ],
   "outputs": [],
   "metadata": {}
  },
  {
   "cell_type": "markdown",
   "source": [
    "1. Примените модели для нашего датасета.\n",
    "\n",
    "2. Для стандартного набора параметров у каждой модели нарисуйте `ROC` кривую и выведите `AUC` и `accuracy`.\n",
    "\n",
    "3. Посчитайте время обучения каждой модели (можно использовать [timeit magic](https://ipython.readthedocs.io/en/stable/interactive/magics.html#magic-timeit)).\n",
    "\n",
    "4. Сравните метрики качества и скорость обучения моделей. Какие выводы можно сделать?"
   ],
   "metadata": {}
  },
  {
   "cell_type": "code",
   "execution_count": null,
   "source": [
    "# YOUR_CODE"
   ],
   "outputs": [],
   "metadata": {}
  },
  {
   "cell_type": "markdown",
   "source": [
    "_Ваш ответ_"
   ],
   "metadata": {}
  }
 ],
 "metadata": {
  "kernelspec": {
   "name": "python3",
   "display_name": "Python 3.8.10 64-bit ('env': venv)"
  },
  "language_info": {
   "codemirror_mode": {
    "name": "ipython",
    "version": 3
   },
   "file_extension": ".py",
   "mimetype": "text/x-python",
   "name": "python",
   "nbconvert_exporter": "python",
   "pygments_lexer": "ipython3",
   "version": "3.8.10"
  },
  "interpreter": {
   "hash": "8d22865cb200c2dfdd3f5854500180a39270a2dc4977b5698ff256ed7c9469f1"
  }
 },
 "nbformat": 4,
 "nbformat_minor": 2
}