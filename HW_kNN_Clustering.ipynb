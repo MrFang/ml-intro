{
 "cells": [
  {
   "cell_type": "markdown",
   "source": [
    "# kNN & Clustering"
   ],
   "metadata": {}
  },
  {
   "cell_type": "markdown",
   "source": [
    "__Суммарное количество баллов: 10__"
   ],
   "metadata": {}
  },
  {
   "cell_type": "markdown",
   "source": [
    "## kNN и рак (3 балла)\n",
    "\n",
    "В этом части домашнего задания Вам предлагается при помощи классификации методом k ближайших соседей научиться отличать тип опухоли в организме"
   ],
   "metadata": {}
  },
  {
   "cell_type": "code",
   "execution_count": null,
   "source": [
    "import numpy as np\n",
    "import pandas as pd\n",
    "import random\n",
    "import matplotlib.pyplot as plt\n",
    "import matplotlib\n",
    "import copy\n",
    "import pandas\n",
    "from typing import Tuple, List"
   ],
   "outputs": [],
   "metadata": {}
  },
  {
   "cell_type": "markdown",
   "source": [
    "### Данные"
   ],
   "metadata": {}
  },
  {
   "cell_type": "markdown",
   "source": [
    "\n",
    "Реализуйте метод `read_cancer_dataset` . Он принимает на вход путь к набору данных и возвращает выборку `X` и соответствующие метки `y`."
   ],
   "metadata": {}
  },
  {
   "cell_type": "code",
   "execution_count": null,
   "source": [
    "CANCER_DATA_PATH = './hw_knn_data/cancer.csv'"
   ],
   "outputs": [],
   "metadata": {}
  },
  {
   "cell_type": "code",
   "execution_count": null,
   "source": [
    "def read_cancer_dataset(path_to_csv: str) -> Tuple[pd.DataFrame, np.array]:\n",
    "    # Возвращает пару из X и y. X - массив векторов. y - соответствующие векторам метки\n",
    "    data: pd.DataFrame = pd.read_csv(path_to_csv)\n",
    "    return data.drop('label', axis = 1), pd.factorize(data['label'])[0]"
   ],
   "outputs": [],
   "metadata": {}
  },
  {
   "cell_type": "code",
   "execution_count": null,
   "source": [
    "X_cancer, y_cancer = read_cancer_dataset(CANCER_DATA_PATH)"
   ],
   "outputs": [],
   "metadata": {}
  },
  {
   "cell_type": "markdown",
   "source": [
    "Начиная работать с данными, нам необходимо их предобработать и подготовить. В частности, нам необходимо разделить выборку на две: тренировочную и тестовую. Тренировочная выборка необходима для обучения алгоритма, а тестовая для проверки результатов обучения. Обычно используют коэффициент разделения `0.7`."
   ],
   "metadata": {}
  },
  {
   "cell_type": "code",
   "execution_count": null,
   "source": [
    "def train_test_split(X: pd.DataFrame, y: np.array, ratio: float) -> Tuple[pd.DataFrame, np.array, pd.DataFrame, np.array]:\n",
    "    # Возвращает X_train, y_train, X_test, y_test\n",
    "    # X_train и X_test - массив векторов - две части массива X, разделенного в состветсви с коэффициентом ratio\n",
    "    # y_train и y_test - соответствующие X_train и X_test метки классов\n",
    "    treshold: int = int(X.shape[0] * ratio)\n",
    "    return X[:treshold], y[:treshold], X[treshold:], y[treshold:]"
   ],
   "outputs": [],
   "metadata": {}
  },
  {
   "cell_type": "markdown",
   "source": [
    "### Метрики"
   ],
   "metadata": {}
  },
  {
   "cell_type": "markdown",
   "source": [
    "Также прежде чем приступать к решению задачи, нам необходимо определиться с метриками, которые позволят нам оценить полученное решение. Для задач классификации мы можем использовать precision, recall и accuracy. Эти метрики считаются для каждого класса. \n",
    "\n",
    "__Precision__ отражает то, насколько редко мы ошибаемся, когда говорим, что объект пренадлежит к классу. \n",
    "\n",
    "__Recall__ же отражает то, насколько редко классификатор неправильно классифицирует объекты данного класса.\n",
    "\n",
    "__Accuracy__ отражает то, какую часть выборки классификатор отнес к правильному классу."
   ],
   "metadata": {}
  },
  {
   "cell_type": "code",
   "execution_count": null,
   "source": [
    "def get_precision_recall_accuracy(y_pred: np.array, y_true: np.array) -> Tuple[List[float], List[float], float]:\n",
    "    # Возвращает precision, recall и accuracy\n",
    "    # precision - набор значений метрики precision для каждого класса\n",
    "    # recall - набор значений метрики recall для каждого класса\n",
    "    # accuracy - число, отражающее общую точность предсказания\n",
    "    precision, recall = [], []\n",
    "    classes = np.unique(y_true)\n",
    "    \n",
    "    for cls in classes:\n",
    "        TP = 0\n",
    "\n",
    "        for pred, true in zip(y_pred, y_true):\n",
    "            if pred == cls and pred == true:\n",
    "                TP += 1\n",
    "        \n",
    "        precision.append(TP / len(list(filter(lambda y: y == cls, y_pred))))\n",
    "        recall.append(TP / len(list(filter(lambda y: y == cls, y_true))))\n",
    "        \n",
    "    accuracy = len(list(filter(lambda y: y[0] == y[1], zip(y_pred, y_true)))) / len(y_pred)\n",
    "\n",
    "    return precision, recall, accuracy"
   ],
   "outputs": [],
   "metadata": {}
  },
  {
   "cell_type": "markdown",
   "source": [
    "Теперь, имея этот метод, мы можем построить кривые зависимости Precision, Recall и Accuracy от параметра `k`"
   ],
   "metadata": {}
  },
  {
   "cell_type": "code",
   "execution_count": null,
   "source": [
    "def plot_precision_recall(X_train, y_train, X_test, y_test, max_k=30):\n",
    "    ks = list(range(1, max_k + 1))\n",
    "    classes = len(np.unique(list(y_train) + list(y_test)))\n",
    "    precisions = [[] for _ in range(classes)]\n",
    "    recalls = [[] for _ in range(classes)]\n",
    "    accuracies = []\n",
    "    for k in ks:\n",
    "        classifier = KNearest(k)\n",
    "        classifier.fit(X_train, y_train)\n",
    "        y_pred = classifier.predict(X_test)\n",
    "        precision, recall, acc = get_precision_recall_accuracy(y_pred, y_test)\n",
    "        for c in range(classes):\n",
    "            precisions[c].append(precision[c])\n",
    "            recalls[c].append(recall[c])\n",
    "        accuracies.append(acc)\n",
    "    def plot(x, ys, ylabel, legend=True):        \n",
    "        plt.figure(figsize = (12, 3))\n",
    "        plt.xlabel(\"K\")\n",
    "        plt.ylabel(ylabel)\n",
    "        plt.xlim(x[0], x[-1])\n",
    "        plt.ylim(np.min(ys)-0.01, np.max(ys)+0.01)\n",
    "        for cls, cls_y in enumerate(ys):\n",
    "            plt.plot(x, cls_y, label=\"Class \" + str(cls))\n",
    "        if legend:\n",
    "            plt.legend()\n",
    "        plt.tight_layout()\n",
    "        plt.show()\n",
    "    \n",
    "    plot(ks, recalls, \"Recall\")\n",
    "    plot(ks, precisions, \"Precision\")\n",
    "    plot(ks, [accuracies], \"Accuracy\", legend=False)"
   ],
   "outputs": [],
   "metadata": {}
  },
  {
   "cell_type": "markdown",
   "source": [
    "Также для оценки качества классификации построим __ROC-кривую__. Она отражает зависимость __True Positive Rate__ (TPR) от __False Positive Rate__ (FPR) для заранее фиксированного класса. Чем график выше побочной диагонали - тем лучше."
   ],
   "metadata": {}
  },
  {
   "cell_type": "code",
   "execution_count": null,
   "source": [
    "def plot_roc_curve(X_train, y_train, X_test, y_test, max_k=30):\n",
    "    positive_samples = sum(1 for y in y_test if y == 0)\n",
    "    ks = list(range(1, max_k + 1))\n",
    "    curves_tpr = []\n",
    "    curves_fpr = []\n",
    "    colors = []\n",
    "    for k in ks:\n",
    "        colors.append([k / ks[-1], 0, 1 - k / ks[-1]])\n",
    "        knearest = KNearest(k)\n",
    "        knearest.fit(X_train, y_train)\n",
    "        p_pred = [p[0] for p in knearest.predict_proba(X_test)]\n",
    "        tpr = []\n",
    "        fpr = []\n",
    "        for w in np.arange(-0.01, 1.02, 0.01):\n",
    "            y_pred = [(0 if p > w else 1) for p in p_pred]\n",
    "            tpr.append(sum(1 for yp, yt in zip(y_pred, y_test) if yp == 0 and yt == 0) / positive_samples)\n",
    "            fpr.append(sum(1 for yp, yt in zip(y_pred, y_test) if yp == 0 and yt != 0) / (len(y_test) - positive_samples))\n",
    "        curves_tpr.append(tpr)\n",
    "        curves_fpr.append(fpr)\n",
    "    plt.figure(figsize = (7, 7))\n",
    "    for tpr, fpr, c in zip(curves_tpr, curves_fpr, colors):\n",
    "        plt.plot(fpr, tpr, color=c)\n",
    "    plt.plot([0, 1], [0, 1], linestyle=\"--\")\n",
    "    plt.xlabel(\"False positive rate\")\n",
    "    plt.ylabel(\"True positive rate\")\n",
    "    plt.xlim(-0.01, 1.01)\n",
    "    plt.ylim(-0.01, 1.01)\n",
    "    plt.tight_layout()\n",
    "    plt.show()"
   ],
   "outputs": [],
   "metadata": {}
  },
  {
   "cell_type": "markdown",
   "source": [
    "## KNN\n",
    "Осталось реализовать сам классификатор. Реализуйте его, используя KD-дерево. (При желании можно воспользоваться библиотечной реализацией дерева)\n",
    "\n",
    "Метод `__init__` принимает на вход количество соседей, по которым предсказывается класс, и размер листьев KD-дерева.\n",
    "\n",
    "Метод `fit` должен по набору данных и меток \"обучать\" классификатор. \n",
    "\n",
    "Метод `predict_proba` должен предсказывать вероятности классов для заданного набора данных основываясь на классах соседей"
   ],
   "metadata": {}
  },
  {
   "cell_type": "code",
   "execution_count": null,
   "source": [
    "from sklearn.neighbors import KDTree\n",
    "\n",
    "class KNearest:\n",
    "    def __init__(self, n_neighbors=5, leaf_size=30):\n",
    "        self.__n_neighbors = n_neighbors\n",
    "        self.__leaf_size = leaf_size\n",
    "    \n",
    "    def fit(self, X: pd.DataFrame, y: np.array) -> None:\n",
    "        self.__test_data = X.copy()\n",
    "        self.__test_data['label'] = y\n",
    "        self.__classes = np.unique(y)\n",
    "\n",
    "        self.__tree = KDTree(X, self.__leaf_size)\n",
    "        \n",
    "    def predict_proba(self, X: pd.DataFrame) -> np.array:\n",
    "        # Возвращает матрицу, в которой строки соответствуют элементам X, а столбцы - классам. На пересечении строки и столбца должна быть указана вероятность того, что элемент относится к классу\n",
    "        # Вероятность рассчитывается как количество ближайших соседей с данным классом деленное на общее количество соседей\n",
    "        result = np.zeros((X.shape[0], len(self.__classes)))\n",
    "\n",
    "        indexes = self.__tree.query(X, self.__n_neighbors, return_distance=False)\n",
    "\n",
    "        for i, row in enumerate(indexes):\n",
    "            for idx in row:\n",
    "                for j in range(len(self.__classes)):\n",
    "                    if self.__test_data.iloc[idx]['label'] == self.__classes[j]:\n",
    "                        result[i][j] += 1\n",
    "                \n",
    "                for j in range(len(result[i])):\n",
    "                    result[i][j] /= self.__n_neighbors\n",
    "\n",
    "        return result\n",
    "        \n",
    "    def predict(self, X):\n",
    "        return np.argmax(self.predict_proba(X), axis=1)"
   ],
   "outputs": [],
   "metadata": {}
  },
  {
   "cell_type": "markdown",
   "source": [
    "Наконец, протестируем наш классификатор на датасете _cancer_"
   ],
   "metadata": {}
  },
  {
   "cell_type": "code",
   "execution_count": null,
   "source": [
    "X_train, y_train, X_test, y_test = train_test_split(X_cancer, y_cancer, 0.9)\n",
    "plot_precision_recall(X_train, y_train, X_test, y_test)\n",
    "plot_roc_curve(X_train, y_train, X_test, y_test, max_k=10)"
   ],
   "outputs": [],
   "metadata": {}
  },
  {
   "cell_type": "markdown",
   "source": [
    "\n",
    "\n",
    "Проанализируйте полученные графики. Какой параметр `k` кажется лучшим? Какая из метрик лучше всего отражает качество модели? "
   ],
   "metadata": {}
  },
  {
   "cell_type": "markdown",
   "source": [
    "_Ваш ответ_ Лучшим вариантом кажется, k = 10, т.к. при равных precision и recall для первого класса на этом значении достигаются высокие показатели этих метрик для нулевого класса, а так же самая высокая accuracy. Кажется, что в данном случае, accuracy лучше всего показывает качество модели, так как её значения примерно коррелируют с точностью предсказаний нулевого класса"
   ],
   "metadata": {}
  },
  {
   "cell_type": "markdown",
   "source": [
    "## Clustering"
   ],
   "metadata": {}
  },
  {
   "cell_type": "markdown",
   "source": [
    "В этой части домашнего задания предлагается реализовать три различных метода кластеризации, понять, в каких случаях стоит применять те или иные методы."
   ],
   "metadata": {}
  },
  {
   "cell_type": "code",
   "execution_count": null,
   "source": [
    "from sklearn.neighbors import KDTree\n",
    "from sklearn.datasets import make_blobs, make_moons, make_swiss_roll\n",
    "import numpy as np\n",
    "import random\n",
    "import matplotlib.pyplot as plt\n",
    "import matplotlib\n",
    "import copy\n",
    "import cv2\n",
    "from collections import deque"
   ],
   "outputs": [],
   "metadata": {}
  },
  {
   "cell_type": "code",
   "execution_count": null,
   "source": [
    "def visualize_clasters(X, labels):\n",
    "    unique_labels = np.unique(labels)\n",
    "    unique_colors = np.random.random((len(unique_labels), 3))\n",
    "    colors = [unique_colors[l] for l in labels]\n",
    "    plt.figure(figsize=(9, 9))\n",
    "    plt.scatter(X[:, 0], X[:, 1], c=colors)\n",
    "    plt.show()\n",
    "\n",
    "def clusters_statistics(flatten_image, cluster_colors, cluster_labels):\n",
    "    fig, axes = plt.subplots(3, 2, figsize=(12, 16))\n",
    "    for remove_color in range(3):\n",
    "        axes_pair = axes[remove_color]\n",
    "        first_color = 0 if remove_color != 0 else 2\n",
    "        second_color = 1 if remove_color != 1 else 2\n",
    "        axes_pair[0].scatter([p[first_color] for p in flatten_image], [p[second_color] for p in flatten_image], c=flatten_image, marker='.')\n",
    "        axes_pair[1].scatter([p[first_color] for p in flatten_image], [p[second_color] for p in flatten_image], c=[cluster_colors[c] for c in cluster_labels], marker='.')\n",
    "        for a in axes_pair:\n",
    "            a.set_xlim(0, 1)\n",
    "            a.set_ylim(0, 1)\n",
    "    plt.show()"
   ],
   "outputs": [],
   "metadata": {}
  },
  {
   "cell_type": "markdown",
   "source": [
    "Генерируем два синтетических набора данных для кластеризации. Далее будем тестировать наши алгоритмы на них."
   ],
   "metadata": {}
  },
  {
   "cell_type": "code",
   "execution_count": null,
   "source": [
    "X_1, true_labels = make_blobs(400, 2, centers=[[0, 0], [-4, 0], [3.5, 3.5], [3.5, -2.0]])\n",
    "visualize_clasters(X_1, true_labels)\n",
    "X_2, true_labels = make_moons(400, noise=0.075)\n",
    "visualize_clasters(X_2, true_labels)"
   ],
   "outputs": [],
   "metadata": {}
  },
  {
   "cell_type": "markdown",
   "source": [
    "### K-means (3 балла)"
   ],
   "metadata": {}
  },
  {
   "cell_type": "markdown",
   "source": [
    "Первый метод, который предлагается реализовать - метод K средних.\n",
    "\n",
    "__Описание методов__\n",
    "\n",
    "`fit(X, y=None)` ищет и запоминает в `self.centroids` центроиды кластеров для набора данных.\n",
    "`predict(X)` для каждого элемента из `X` возвращает номер кластера, к которому относится данный элемент.\n",
    "\n",
    "__Инициализация кластеров__\n",
    "\n",
    "Есть несколько вариантов инициализации кластеров. Нужно реализовать их все:\n",
    "1. `random` - центроиды кластеров являются случайными точками\n",
    "2. `sample` - центроиды кластеров выбираются случайно из набора данных\n",
    "3. `k-means++` - центроиды кластеров инициализируются при помощи метода K-means++\n"
   ],
   "metadata": {}
  },
  {
   "cell_type": "code",
   "execution_count": null,
   "source": [
    "from sklearn.preprocessing import minmax_scale\n",
    "from functools import reduce\n",
    "\n",
    "class KMeans:\n",
    "    def __init__(self, n_clusters, init=\"random\", max_iter=300):\n",
    "        if init not in ['random', 'sample', 'k-means++']:\n",
    "            raise ValueError('\"init\" must be either \"random\", \"sample\" or \"k-means++\"')\n",
    "        \n",
    "        self.__n_clusters = n_clusters\n",
    "        self.__init = init\n",
    "        self.__max_iter = max_iter\n",
    "        \n",
    "    def fit(self, X, y=None):\n",
    "        dimension = len(X[0])\n",
    "        self.__data = minmax_scale(X)\n",
    "        \n",
    "        if self.__init == 'random':\n",
    "            self.__centroids = np.random.random((self.__n_clusters, dimension))\n",
    "        elif self.__init == 'sample':\n",
    "            indexes = np.random.choice(range(len(self.__data)), self.__n_clusters)\n",
    "            self.__centroids = np.array(list(map(lambda idx: self.__data[idx], indexes)))\n",
    "        elif self.__init == 'k-means++':\n",
    "            self.__centroids = np.zeros((self.__n_clusters, dimension))\n",
    "            self.__centroids[0] = self.__data[np.random.randint(0, len(self.__data))]\n",
    "            \n",
    "            for new_centroid_idx in range(1, self.__n_clusters):\n",
    "                distances = np.array(list(map( # Массив с минимальным расстоянием для каждого примера\n",
    "                    lambda example: min(list(map( # Проходимся по всем уже найденым центроидам и находим ближайший\n",
    "                        lambda centroid_idx: reduce( # Проходимся по всем измерениям и считаем квадрат евклидова расстояния\n",
    "                            lambda acc, d: acc + (example[d] - self.__centroids[centroid_idx][d])**2,\n",
    "                            range(dimension),\n",
    "                            0\n",
    "                        ),\n",
    "                        range(new_centroid_idx)\n",
    "                    ))),\n",
    "                    self.__data\n",
    "                )))\n",
    "\n",
    "                probabilities = distances / np.sum(distances)\n",
    "                # TODO: Сделать модель вероятностной\n",
    "                self.__centroids[new_centroid_idx] = self.__data[np.argmax(probabilities)]\n",
    "\n",
    "        raise NotImplementedError()\n",
    "    \n",
    "    def predict(self, X):\n",
    "        raise NotImplementedError()"
   ],
   "outputs": [],
   "metadata": {}
  },
  {
   "cell_type": "markdown",
   "source": [
    "Протестируйте алгоритм на синтетических данных. При необходимости подберите гиперпараметры для достижения лучшего качества кластеризации."
   ],
   "metadata": {}
  },
  {
   "cell_type": "code",
   "execution_count": null,
   "source": [
    "kmeans = KMeans(n_clusters=4, init='k-means++')\n",
    "kmeans.fit(X_1)\n",
    "labels = kmeans.predict(X_1)\n",
    "visualize_clasters(X_1, labels)\n",
    "\n",
    "kmeans = KMeans(n_clusters=2)\n",
    "kmeans.fit(X_2)\n",
    "labels = kmeans.predict(X_2)\n",
    "visualize_clasters(X_2, labels)"
   ],
   "outputs": [],
   "metadata": {}
  },
  {
   "cell_type": "markdown",
   "source": [
    "### DBScan (4 балла)\n",
    "В отличии от K-means, DBScan не позволяет задать количество кластеров, на которое будут разбиты данные. Руководствуясь геометрической интерпретацией, он позволяет выделять кластеры более сложной формы.\n",
    "\n",
    "__Описание методов__\n",
    "\n",
    "`fit_predict(X, y=None)` для каждого элемента `X` возвращает метку кластера, к которому он относится.\n",
    "\n",
    "__Возможные метрики__\n",
    "\n",
    "* `euclidean`\n",
    "* `manhattan`\n",
    "* `chebyshev`\n",
    "\n",
    "__Для быстрого поиска соседей используйте `sklearn.neighbors.KDTree`__"
   ],
   "metadata": {}
  },
  {
   "cell_type": "code",
   "execution_count": null,
   "source": [
    "class DBScan:\n",
    "    def __init__(self, eps=0.5, min_samples=5, leaf_size=40, metric=\"euclidean\"):\n",
    "        raise NotImplementedError()\n",
    "        \n",
    "    def fit_predict(self, X, y=None):\n",
    "        raise NotImplementedError()"
   ],
   "outputs": [],
   "metadata": {}
  },
  {
   "cell_type": "markdown",
   "source": [
    "Протестируйте алгоритм на синтетических данных. При необходимости подберите гиперпараметры для достижения лучшего качества кластеризации."
   ],
   "metadata": {}
  },
  {
   "cell_type": "code",
   "execution_count": null,
   "source": [
    "dbscan = DBScan()\n",
    "labels = dbscan.fit_predict(X_1)\n",
    "visualize_clasters(X_1, labels)\n",
    "\n",
    "dbscan = DBScan()\n",
    "labels = dbscan.fit_predict(X_2)\n",
    "visualize_clasters(X_2, labels)"
   ],
   "outputs": [],
   "metadata": {}
  },
  {
   "cell_type": "markdown",
   "source": [
    "Проанализируйте полученные результаты. \n",
    "\n",
    "Какой метод лучше справился с кластеризацией? Почему? \n",
    "\n",
    "Сравните значения метрик  `Davies-Bouldin index` и `Silhouette score` для определения качества кластеризации. \n",
    "\n",
    "Какие значения метрики свидетельствуют о хорошей кластеризации - большие или маленькие?"
   ],
   "metadata": {}
  },
  {
   "cell_type": "markdown",
   "source": [
    "_Ваш ответ_"
   ],
   "metadata": {}
  },
  {
   "cell_type": "code",
   "execution_count": null,
   "source": [
    "from sklearn.metrics import davies_bouldin_score\n",
    "from sklearn.metrics import silhouette_score"
   ],
   "outputs": [],
   "metadata": {}
  },
  {
   "cell_type": "code",
   "execution_count": null,
   "source": [
    "# YOUR_CODE"
   ],
   "outputs": [],
   "metadata": {}
  }
 ],
 "metadata": {
  "kernelspec": {
   "name": "python3",
   "display_name": "Python 3.8.10 64-bit ('env': venv)"
  },
  "language_info": {
   "codemirror_mode": {
    "name": "ipython",
    "version": 3
   },
   "file_extension": ".py",
   "mimetype": "text/x-python",
   "name": "python",
   "nbconvert_exporter": "python",
   "pygments_lexer": "ipython3",
   "version": "3.8.10"
  },
  "interpreter": {
   "hash": "8d22865cb200c2dfdd3f5854500180a39270a2dc4977b5698ff256ed7c9469f1"
  }
 },
 "nbformat": 4,
 "nbformat_minor": 4
}